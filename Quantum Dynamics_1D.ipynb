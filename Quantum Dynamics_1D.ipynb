{
 "cells": [
  {
   "cell_type": "markdown",
   "metadata": {},
   "source": [
    "# Quantum Dynamics 1D"
   ]
  },
  {
   "cell_type": "markdown",
   "metadata": {},
   "source": [
    "## General imports and initialization"
   ]
  },
  {
   "cell_type": "code",
   "execution_count": 1,
   "metadata": {
    "collapsed": false
   },
   "outputs": [
    {
     "name": "stdout",
     "output_type": "stream",
     "text": [
      "Using matplotlib backend: Qt4Agg\n"
     ]
    }
   ],
   "source": [
    "import numpy as np\n",
    "import scipy as sp\n",
    "from scipy import sparse\n",
    "from scipy.sparse import linalg\n",
    "import matplotlib.pyplot as plt\n",
    "import timeit\n",
    "from matplotlib import animation\n",
    "#matplotlib inline\n",
    "%matplotlib auto\n",
    "\n",
    "#A framework to create mp4 files, must be installed on this location on the computer\n",
    "plt.rcParams['animation.ffmpeg_path'] = \"C:/FFMPEG/bin/ffmpeg.exe\""
   ]
  },
  {
   "cell_type": "code",
   "execution_count": 2,
   "metadata": {
    "collapsed": true
   },
   "outputs": [],
   "source": [
    "#Number of points in x-direction \n",
    "Nx = 2001\n",
    "\n",
    "#Create x-grid\n",
    "xrange = 40\n",
    "x = np.linspace(-xrange,xrange,Nx)\n",
    "dx = xrange*2/(Nx-1)\n",
    "\n",
    "#Make corresponding k-grid\n",
    "k_four = np.fft.fftfreq(Nx, dx)*2*np.pi"
   ]
  },
  {
   "cell_type": "code",
   "execution_count": 49,
   "metadata": {
    "collapsed": false
   },
   "outputs": [],
   "source": [
    "#Create potentiallandscape\n",
    "def potential_barrier(x, width, height, center_x):\n",
    "    V_vec = height*(0.5*(np.sign((x-center_x)+width/2)) - \n",
    "                    0.5*(np.sign((x-center_x)-width/2)))    \n",
    "    return V_vec\n",
    "\n",
    "#Create Hamiltonian, needed for Crank-Nicolson\n",
    "def HamiltonianOperator(V_vec,Nx,dx):\n",
    "    H = dx**-2 * (2 * sparse.eye(Nx,Nx,0)-sparse.eye(Nx,Nx,1) - \n",
    "                  sparse.eye(Nx,Nx,-1)) + sparse.diags(V_vec,0) + 1j*0\n",
    "    H[0,Nx-1]=-1*dx**-2\n",
    "    H[Nx-1,0]=-1*dx**-2\n",
    "    return H"
   ]
  },
  {
   "cell_type": "markdown",
   "metadata": {},
   "source": [
    "### For Crank-Nicolson"
   ]
  },
  {
   "cell_type": "code",
   "execution_count": 54,
   "metadata": {
    "collapsed": false
   },
   "outputs": [],
   "source": [
    "#Create time-grid\n",
    "Nt = 4000\n",
    "dt = 0.001\n",
    "t = np.linspace(0,Nt*dt,Nt)"
   ]
  },
  {
   "cell_type": "markdown",
   "metadata": {},
   "source": [
    "### For Trotterization"
   ]
  },
  {
   "cell_type": "code",
   "execution_count": 59,
   "metadata": {
    "collapsed": false
   },
   "outputs": [],
   "source": [
    "#Create time-grid\n",
    "dt = 0.0001\n",
    "Nt = 70000\n",
    "t = np.linspace(0,Nt*dt,Nt)"
   ]
  },
  {
   "cell_type": "markdown",
   "metadata": {},
   "source": [
    "### Initialization of Wave packet"
   ]
  },
  {
   "cell_type": "code",
   "execution_count": 60,
   "metadata": {
    "collapsed": false
   },
   "outputs": [],
   "source": [
    "psi_x = np.zeros((Nx, Nt), dtype = complex)\n",
    "psi_k = np.zeros((Nx, Nt), dtype = complex)\n",
    "\n",
    "#Begin with a normalized wavepacket in momentum space, width_k = 1/width, centered\n",
    "#around k0 in momentum space, x0 in real space.\n",
    "width = 2.5\n",
    "k0 = 7.5\n",
    "x0 = 0\n",
    "psi_k[:,0] = ((width / np.pi)**(1/4)\n",
    "            * np.exp(-0.5 * (width * (k_four - k0)) ** 2 - 1j * (k_four - k0) * x0))\n",
    "\n",
    "#Transform to have a wavepacket in x-space\n",
    "psi_x[:,0] = np.fft.fftshift(np.fft.ifft(psi_k[:,0], norm = \"ortho\"))\n",
    "\n",
    "#We make a potential barrier which is just 4/3 * average energy of the wavepacket\n",
    "#height = 6/5 * p0^2/2m = 4/3 * k0^2 in natural units\n",
    "height = 5/4 * k0**2\n",
    "V_pot = potential_barrier(x, width = 0.5, height = height, center_x = 10)"
   ]
  },
  {
   "cell_type": "markdown",
   "metadata": {
    "collapsed": true
   },
   "source": [
    "## Simulation "
   ]
  },
  {
   "cell_type": "markdown",
   "metadata": {},
   "source": [
    "### Run block for Crank Nicolson "
   ]
  },
  {
   "cell_type": "code",
   "execution_count": 56,
   "metadata": {
    "collapsed": false
   },
   "outputs": [
    {
     "name": "stderr",
     "output_type": "stream",
     "text": [
      "C:\\Users\\TU Delf SID\\Anaconda3\\lib\\site-packages\\scipy\\sparse\\compressed.py:739: SparseEfficiencyWarning: Changing the sparsity structure of a csr_matrix is expensive. lil_matrix is more efficient.\n",
      "  SparseEfficiencyWarning)\n"
     ]
    }
   ],
   "source": [
    "HD = HamiltonianOperator(V_pot,Nx,dx)\n",
    "\n",
    "for i in range(Nt-1):\n",
    "    psi_x[:,i+1]=(sparse.eye(Nx,Nx,0)-1j*dt*HD/2)*linalg.spsolve(sparse.eye(Nx,Nx,0)+\n",
    "                                                                 1j*dt*HD/2,psi_x[:,i])\n",
    "    \n",
    "    #Get psi_k, by Fourier transforming wavepacket to momentum space\n",
    "    psi_k[:,i+1] = np.fft.fft(psi_x[:,i+1], norm = \"ortho\")"
   ]
  },
  {
   "cell_type": "markdown",
   "metadata": {},
   "source": [
    "### Run block for Trotterization"
   ]
  },
  {
   "cell_type": "code",
   "execution_count": 61,
   "metadata": {
    "collapsed": false
   },
   "outputs": [],
   "source": [
    "#Diagonal trotterization operator in momentum space\n",
    "exponentP = np.exp(-1j*dt*abs(k_four)**2)\n",
    "\n",
    "#Diagonal trotterization operator in real space\n",
    "\n",
    "exponentV = np.exp(-1j*dt*V_pot)\n",
    "\n",
    "#For each timestep, perform trotterization step\n",
    "for i in range(Nt-1):\n",
    "    \n",
    "    #The first Fourier transformation to momentum space\n",
    "    term1 = np.fft.fft(exponentV*psi_x[:,i], norm = \"ortho\")\n",
    "    \n",
    "    #Inverse Fourier transform, back to real space\n",
    "    psi_x[:,i+1] = np.fft.ifft(exponentP*term1, norm = \"ortho\")\n",
    "    \n",
    "    #Get psi_k, by Fourier transforming wavepacket to momentum space\n",
    "    psi_k[:,i+1] = np.fft.fft(psi_x[:,i+1], norm = \"ortho\")\n",
    "   \n",
    "psi_x *= np.sqrt(max(k_four)/max(x))"
   ]
  },
  {
   "cell_type": "markdown",
   "metadata": {},
   "source": [
    "## Animation"
   ]
  },
  {
   "cell_type": "code",
   "execution_count": 63,
   "metadata": {
    "collapsed": false
   },
   "outputs": [
    {
     "name": "stderr",
     "output_type": "stream",
     "text": [
      "C:\\Users\\TU Delf SID\\Anaconda3\\lib\\site-packages\\ipykernel\\__main__.py:31: DeprecationWarning: using a non-integer number instead of an integer will result in an error in the future\n",
      "C:\\Users\\TU Delf SID\\Anaconda3\\lib\\site-packages\\ipykernel\\__main__.py:33: DeprecationWarning: using a non-integer number instead of an integer will result in an error in the future\n",
      "C:\\Users\\TU Delf SID\\Anaconda3\\lib\\site-packages\\ipykernel\\__main__.py:31: DeprecationWarning: using a non-integer number instead of an integer will result in an error in the future\n",
      "C:\\Users\\TU Delf SID\\Anaconda3\\lib\\site-packages\\ipykernel\\__main__.py:33: DeprecationWarning: using a non-integer number instead of an integer will result in an error in the future\n"
     ]
    }
   ],
   "source": [
    "#We create the figures and set limits on the axis\n",
    "#Figure 1: x-space\n",
    "#Figure 2: k-space\n",
    "fig, (ax1, ax2) = plt.subplots(2,1)\n",
    "ax1.set_xlim(x[0], x[-1])\n",
    "ax1.set_ylim(0, 1.2*(abs(psi_x[:,0]**2)).max())\n",
    "ax2.set_xlim(-2 * k0, 2*k0)\n",
    "ax2.set_ylim(0, abs(psi_k[:,0]**2).max())\n",
    "\n",
    "#Add potential barrier in k-space\n",
    "plt.axvline(x=np.sqrt(max(V_pot)), ymin=0, ymax = 1, linewidth=2, color='k')\n",
    "\n",
    "#Set labels and titles\n",
    "ax1.set_xlabel('x')\n",
    "ax1.set_ylabel(r'$|\\psi(x)|^2$')\n",
    "ax2.set_xlabel('k')\n",
    "ax2.set_ylabel(r'$|\\psi(k)|^2$')\n",
    "ax1.set_title('Real space Wavepacket and potential', fontweight = 'bold')\n",
    "ax2.set_title('Momentum Space Wavepacket and potential barrier', fontweight = 'bold')\n",
    "\n",
    "#lines[0]: psi(x)\n",
    "#lines[1] = Potential landscape\n",
    "#lines[2]  = psi(k)\n",
    "lines = [ax1.plot([], [])[0], ax1.plot([], [])[0], ax2.plot([], [], color = 'red')[0]]\n",
    "\n",
    "\n",
    "#These functions will be repeatedly called to create an animation,\n",
    "def animate(i):\n",
    "    \"\"\"Given an index i, return the wavefunction in real space and wavefunction and the \n",
    "    potential barrier in momentum space at the corresponding time\"\"\"\n",
    "    lines[0].set_ydata(abs(psi_x[:,i])**2)\n",
    "    lines[1].set_ydata(V_pot)\n",
    "    lines[2].set_ydata(abs(psi_k[:,i])**2)\n",
    "    return lines\n",
    "\n",
    "# Init only required to set first frame.\n",
    "def init():    \n",
    "    \"\"\"Return initial wavefunction in real space, wavefunction and potential barrier in \n",
    "    momentum space at time t = 0\"\"\"\n",
    "    lines[0].set_data(x, abs(psi_x[:,0])**2)\n",
    "    lines[1].set_data(x,V_pot)\n",
    "    lines[2].set_data(k_four, abs(psi_k[:,0])**2)\n",
    "    return lines\n",
    "\n",
    "#The animation is run, different frames taken for different methodes to compent\n",
    "anim = animation.FuncAnimation(fig, animate,  np.arange(1, Nt + 1, 10**(-2)/dt), \n",
    "                               init_func=init,interval=30, blit=True)\n",
    "\n",
    "#Call the FFMPEG platform and save the animation as mp4 file, uncomment if you want to SAVE\n",
    "FFwriter = animation.FFMpegWriter()\n",
    "#anim.save(r'.\\Animations\\1D_Trotterization.mp4', writer \n",
    "           #= FFwriter, fps=None, extra_args=['-vcodec', 'libx264'])\n",
    "\n",
    "#Show animation\n",
    "#plt.show()"
   ]
  }
 ],
 "metadata": {
  "kernelspec": {
   "display_name": "Python 3",
   "language": "python",
   "name": "python3"
  },
  "language_info": {
   "codemirror_mode": {
    "name": "ipython",
    "version": 3
   },
   "file_extension": ".py",
   "mimetype": "text/x-python",
   "name": "python",
   "nbconvert_exporter": "python",
   "pygments_lexer": "ipython3",
   "version": "3.5.1"
  }
 },
 "nbformat": 4,
 "nbformat_minor": 0
}
