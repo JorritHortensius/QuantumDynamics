{
 "cells": [
  {
   "cell_type": "markdown",
   "metadata": {},
   "source": [
    "# Two Dimensional Schrödinger Equation"
   ]
  },
  {
   "cell_type": "markdown",
   "metadata": {},
   "source": [
    "We would like to solve the Schrödinger Equation (SE) in two dimensions. The SE describes the time evolution of a wavefunction, and is in natural units given by\n",
    "$$\n",
    "i\\frac{\\partial \\Psi(\\pmb{r},t)}{\\partial t} = - \\nabla^2 \\Psi(\\pmb{r},t) + V(\\pmb{r})\\Psi(\\pmb{r},t) = \\hat{H}\\Psi(\\pmb{r},t),\n",
    "$$\n",
    "where the potential $V(\\pmb{r})$ is a double slit potential landscape: zero everywhere except for a barrier with two holes in it. $\\hat{H}$ is the hamiltonian. In this system we would like to see interference effects. Below we will use two different methods to solve the SE using numerical approximation schemes. But first we need some general settings."
   ]
  },
  {
   "cell_type": "markdown",
   "metadata": {},
   "source": [
    "## General settings"
   ]
  },
  {
   "cell_type": "code",
   "execution_count": 1,
   "metadata": {
    "collapsed": false
   },
   "outputs": [
    {
     "name": "stdout",
     "output_type": "stream",
     "text": [
      "Using matplotlib backend: Qt4Agg\n"
     ]
    }
   ],
   "source": [
    "# The usual\n",
    "import numpy as np\n",
    "import scipy as sp\n",
    "from scipy import sparse\n",
    "from scipy.sparse import linalg\n",
    "import matplotlib.pyplot as plt\n",
    "import matplotlib.animation as animation\n",
    "%matplotlib auto\n",
    "\n",
    "# This is a non standard pacakge\n",
    "# To install it, go to the anaconda prompt and type 'conda install h5py'\n",
    "import h5py\n",
    "\n",
    "# To use this code you need to install FFMpeg, help can be found on this website\n",
    "# http://www.wikihow.com/Install-FFmpeg-on-Windows\n",
    "plt.rcParams['animation.ffmpeg_path'] = \"C:/ffmpeg/bin/ffmpeg.exe\"\n",
    "FFwriter = animation.FFMpegWriter()"
   ]
  },
  {
   "cell_type": "code",
   "execution_count": 44,
   "metadata": {
    "collapsed": false
   },
   "outputs": [],
   "source": [
    "Nx = 500\n",
    "Ny = 1000\n",
    "#Make real-space grid\n",
    "x = np.linspace(-5, 5, Nx)\n",
    "dx = 10 / Nx\n",
    "y = np.linspace(-10, 10, Ny)\n",
    "dy = 20 / Ny\n",
    "X, Y = np.meshgrid(x, y)\n",
    "\n",
    "\n",
    "#Create potentiallandscape\n",
    "V_mat = np.zeros((Nx,Ny))\n",
    "V_mat[0:225, 495:505] = 1000000\n",
    "V_mat[235:265, 495:505,] = 1000000\n",
    "V_mat[275:500, 495:505,] = 1000000"
   ]
  },
  {
   "cell_type": "markdown",
   "metadata": {},
   "source": [
    "## Crank-Nicolson Method"
   ]
  },
  {
   "cell_type": "markdown",
   "metadata": {},
   "source": [
    "In the Crank-Nicolson method the time evolution of the wave function is approximated using:\n",
    "$$\n",
    "\\Psi(\\pmb{r},t+\\Delta t) = e^{-i \\hat{H} \\Delta t} \\Psi(\\pmb{r},t) \\approx \\frac{1-i\\frac{1}{2}\\hat{H}\\Delta t}{1+i\\frac{1}{2}\\hat{H}\\Delta t} \\Psi(\\pmb{r},t)\n",
    "$$\n",
    "which means that for every timestep we should solve the linear system\n",
    "$$\n",
    "(1+i\\frac{1}{2}\\hat{H}\\Delta t) \\Psi(\\pmb{r},t+\\Delta t) = (1-i\\frac{1}{2}\\hat{H}\\Delta t)\\Psi(\\pmb{r},t)\n",
    "$$\n",
    "The biconjugate gradient stabalized method is used for this purpose.\n",
    "The momentum operator is discretized using finite difference methods."
   ]
  },
  {
   "cell_type": "code",
   "execution_count": 86,
   "metadata": {
    "collapsed": false
   },
   "outputs": [],
   "source": [
    "dt = 0.005\n",
    "Nt = 50\n",
    "\n",
    "# Allow k values on discrete grid\n",
    "k_four = 2 * np.pi * np.fft.fftfreq(Ny, dy)\n",
    "\n",
    "\n",
    "def multvec(psi_in):  \n",
    "    \"\"\"Generalized lineair operator which performs multiplication of wave function psi_in \n",
    "    with 1 + i dt H /2\"\"\"\n",
    "    psi = np.reshape(psi_in,(Nx,Ny))\n",
    "    out = psi + 1j*dt*( dx**-2 * (4*psi - np.roll(psi,1,axis=0)-np.roll(psi,-1,axis=0)\\\n",
    "                        -np.roll(psi,1,axis=1)-np.roll(psi,-1,axis=1))\\\n",
    "                        + V_mat*psi )/2\n",
    "    return np.reshape(out,np.shape(psi_in))\n",
    "\n",
    "A = linalg.LinearOperator(dtype = complex, shape = (Nx*Ny,Nx*Ny) , matvec = multvec )"
   ]
  },
  {
   "cell_type": "code",
   "execution_count": 87,
   "metadata": {
    "collapsed": false,
    "scrolled": true
   },
   "outputs": [
    {
     "name": "stdout",
     "output_type": "stream",
     "text": [
      "i is 0  and succes is  True\n",
      "i is 1  and succes is  True\n",
      "i is 2  and succes is  True\n",
      "i is 3  and succes is  True\n",
      "i is 4  and succes is  True\n",
      "i is 5  and succes is  True\n",
      "i is 6  and succes is  True\n",
      "i is 7  and succes is  True\n",
      "i is 8  and succes is  True\n",
      "i is 9  and succes is  True\n",
      "i is 10  and succes is  True\n",
      "i is 11  and succes is  True\n",
      "i is 12  and succes is  True\n",
      "i is 13  and succes is  True\n",
      "i is 14  and succes is  True\n",
      "i is 15  and succes is  True\n",
      "i is 16  and succes is  True\n",
      "i is 17  and succes is  True\n",
      "i is 18  and succes is  True\n",
      "i is 19  and succes is  True\n",
      "i is 20  and succes is  True\n",
      "i is 21  and succes is  True\n",
      "i is 22  and succes is  True\n",
      "i is 23  and succes is  True\n",
      "i is 24  and succes is  True\n",
      "i is 25  and succes is  True\n",
      "i is 26  and succes is  True\n",
      "i is 27  and succes is  True\n",
      "i is 28  and succes is  True\n",
      "i is 29  and succes is  True\n",
      "i is 30  and succes is  True\n",
      "i is 31  and succes is  True\n",
      "i is 32  and succes is  True\n",
      "i is 33  and succes is  True\n",
      "i is 34  and succes is  True\n",
      "i is 35  and succes is  True\n",
      "i is 36  and succes is  True\n",
      "i is 37  and succes is  True\n",
      "i is 38  and succes is  True\n",
      "i is 39  and succes is  True\n",
      "i is 40  and succes is  True\n",
      "i is 41  and succes is  True\n",
      "i is 42  and succes is  True\n",
      "i is 43  and succes is  True\n",
      "i is 44  and succes is  True\n",
      "i is 45  and succes is  True\n",
      "i is 46  and succes is  True\n",
      "i is 47  and succes is  True\n",
      "i is 48  and succes is  True\n"
     ]
    }
   ],
   "source": [
    "# Create file\n",
    "f = h5py.File('.\\Data\\TwoD\\CrankNicolson37.hdf5')\n",
    "# Create dataset: dataQM\n",
    "datax = f.create_dataset('dataqm', (Nx,Ny,1), dtype = np.complex64, maxshape = (Nx,Ny,None))\n",
    "\n",
    "# Define arrays\n",
    "psi_x = np.zeros((Nx, Ny), dtype = complex)\n",
    "psi_k = np.zeros((Nx, Ny), dtype = complex)\n",
    "b     = np.zeros((Nx, Ny), dtype = complex)\n",
    "\n",
    "width = 5\n",
    "y0 = -7\n",
    "k0 = 5\n",
    "#  Create gaussian wave packet with width_k = 1/width\n",
    "psi_k[0,:] = ((width / np.pi)**(1/4)\n",
    "            * np.exp(-0.5 * (width * (k_four - k0)) ** 2 - 1j * (k_four - k0) * y0))\n",
    "\n",
    "psi_x = np.fft.fftshift(np.fft.ifft2(psi_k))\n",
    "\n",
    "datax[:,:,0] = psi_x\n",
    "f.flush()\n",
    "\n",
    "for i in range(Nt-1):\n",
    "    # Find new wavefunction using Crank-Nicolson algorithm\n",
    "    b = psi_x - 1j*dt*( dx**-2 * (4*psi_x - np.roll(psi_x,1,axis=0)-np.roll(psi_x,-1,axis=0)\\\n",
    "                        -np.roll(psi_x,1,axis=1)-np.roll(psi_x,-1,axis=1))\\\n",
    "                        + V_mat*psi_x )/2\n",
    "    \n",
    "    b = np.reshape(b,(Nx*Ny))\n",
    "    \n",
    "    #Get wavefunction at next timestep\n",
    "    psi_x, succes = linalg.bicgstab(A,b, x0 = np.reshape(psi_x,(Nx*Ny)))\n",
    "    psi_x = np.reshape(psi_x,(Nx,Ny))\n",
    "    b = np.reshape(b,(Nx,Ny))\n",
    "    \n",
    "    # Save wave function to drive every interation\n",
    "    print('i is', i,' and succes is ', succes == 0)\n",
    "    datax.resize((Nx,Ny,datax.shape[2]+1))\n",
    "    datax[:,:,-1] = psi_x\n",
    "    f.flush()\n",
    "        \n",
    "f.close()"
   ]
  },
  {
   "cell_type": "markdown",
   "metadata": {},
   "source": [
    "## Split-operator Method"
   ]
  },
  {
   "cell_type": "markdown",
   "metadata": {},
   "source": [
    "In the split-operator method the following time evolution operator is used:\n",
    "$$\n",
    "\\Psi(\\pmb{r},t+\\Delta t) = IFFT\\Big\\{e^{-i \\Delta t \\hat{P}}FFT\\Big\\{e^{-i \\Delta t \\hat{V}} \\Psi(\\pmb{r},t)\\Big\\}\\Big\\}\n",
    "$$\n",
    "where $\\hat{P}$ is the momentum operator and $\\hat{V}$ is the potential operator. In the split operator scheme we do not need the momentum operator in the x-basis, it is only needed in the p-basis. For this reason we do not have to construct 3D operators, we only need the elements which would be on the diagonal. Then we can do elementwise multiplication."
   ]
  },
  {
   "cell_type": "code",
   "execution_count": 82,
   "metadata": {
    "collapsed": false
   },
   "outputs": [],
   "source": [
    "# Split operator requires a smaller timestep\n",
    "dt = 0.0001\n",
    "Nt = 2500\n",
    "\n",
    "f_four_x = 2 * np.pi * np.fft.fftfreq(Nx, dx)\n",
    "f_four_y = 2 * np.pi * np.fft.fftfreq(Ny, dy)\n",
    "\n",
    "Px, Py = np.meshgrid(f_four_x, f_four_y, indexing='ij')\n",
    "exponentP = np.exp(-1j*dt*np.pi*(np.absolute(Px)**2 + np.absolute(Py)**2))\n",
    "exponentV = np.exp(-1j*dt*V_mat)"
   ]
  },
  {
   "cell_type": "code",
   "execution_count": 83,
   "metadata": {
    "collapsed": false,
    "scrolled": true
   },
   "outputs": [
    {
     "name": "stdout",
     "output_type": "stream",
     "text": [
      "0 50 100 150 200 250 300 350 400 450 500 550 600 650 700 750 800 850 900 950 1000 1050 1100 1150 1200 1250 1300 1350 1400 1450 1500 1550 1600 1650 1700 1750 1800 1850 1900 1950 2000 2050 2100 2150 2200 2250 2300 2350 2400 2450 "
     ]
    }
   ],
   "source": [
    "# Create file\n",
    "f = h5py.File('.\\Data\\TwoD\\SplitOperator.hdf5')\n",
    "# Create dataset: dataQM\n",
    "datax = f.create_dataset('dataqm', (Nx,Ny,1), dtype = np.complex64, maxshape = (Nx,Ny,None))\n",
    "\n",
    "\n",
    "# Define arrays\n",
    "psi_x = np.zeros((Nx, Ny), dtype = complex)\n",
    "psi_k = np.zeros((Nx, Ny), dtype = complex)\n",
    "\n",
    "width = 5\n",
    "y0 = -7\n",
    "k0 = 5\n",
    "#  Create gaussian wave packet with width_k = 1/width\n",
    "psi_k[0,:] = ((width / np.pi)**(1/4)\n",
    "            * np.exp(-0.5 * (width * (k_four - k0)) ** 2 - 1j * (k_four - k0) * y0))\n",
    "\n",
    "psi_x = np.fft.fftshift(np.fft.ifft2(psi_k))\n",
    "datax[:,:,0] = psi_x\n",
    "f.flush()\n",
    "\n",
    "for i in range(Nt-1):\n",
    "    term1 = np.fft.fft2(exponentV*psi_x, norm = \"ortho\")\n",
    "    psi_x = np.fft.ifft2(exponentP*term1, norm = \"ortho\")\n",
    "    if i%50 == 0:\n",
    "        # Save wave function to drive once every 50 interations\n",
    "        print(i, end = \" \")\n",
    "        datax.resize((Nx,Ny,datax.shape[2]+1))\n",
    "        datax[:,:,-1] = psi_x\n",
    "        f.flush()\n",
    "        \n",
    "f.close()        "
   ]
  },
  {
   "cell_type": "markdown",
   "metadata": {},
   "source": [
    "## Make animation "
   ]
  },
  {
   "cell_type": "code",
   "execution_count": 88,
   "metadata": {
    "collapsed": false
   },
   "outputs": [],
   "source": [
    "fig = plt.figure()\n",
    "f = h5py.File(\".\\Data\\TwoD\\CrankNicolson37.hdf5\",\"r\")\n",
    "\n",
    "#Initalize figure\n",
    "ims = []\n",
    "Nframe = f['dataqm'].shape[2]\n",
    "for i in range(Nframe):\n",
    "    im = plt.imshow(np.absolute(f['dataqm'][:,:,i])**2, vmin = 0, vmax = 10**-11 , cmap=plt.get_cmap('viridis'), animated=True)\n",
    "    ims.append([im])\n",
    "\n",
    "anim = animation.ArtistAnimation(fig, ims, interval = 200, blit = True, repeat_delay = 1000)\n",
    "plt.colorbar()\n",
    "plt.title(r'Crank Nicolson simulation of double slit')\n",
    "anim.save(r'.\\Animations\\2DCrankNicolson.mp4',writer = FFwriter, fps = 2)\n",
    "\n",
    "f.close()"
   ]
  }
 ],
 "metadata": {
  "kernelspec": {
   "display_name": "Python 3",
   "language": "python",
   "name": "python3"
  },
  "language_info": {
   "codemirror_mode": {
    "name": "ipython",
    "version": 3
   },
   "file_extension": ".py",
   "mimetype": "text/x-python",
   "name": "python",
   "nbconvert_exporter": "python",
   "pygments_lexer": "ipython3",
   "version": "3.5.1"
  }
 },
 "nbformat": 4,
 "nbformat_minor": 0
}
